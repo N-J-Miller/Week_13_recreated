{
 "cells": [
  {
   "cell_type": "markdown",
   "id": "77779e6d",
   "metadata": {},
   "source": [
    "# Week 13 Group Activity"
   ]
  },
  {
   "cell_type": "markdown",
   "id": "971b9cbe",
   "metadata": {},
   "source": [
    "1. In markdown, describe KNN in your own words."
   ]
  },
  {
   "cell_type": "markdown",
   "id": "9fbce319",
   "metadata": {},
   "source": [
    "These aren't my *own* words, but Jamie Mortensen put it well when she said KNN is 'the peer-pressure variable'! KNN, or k-nearest neighbor, is a statistical tool that helps determine what group a particular piece of data belongs in by evaluating its 'nearest neighbor' data points."
   ]
  },
  {
   "cell_type": "markdown",
   "id": "c40a46b9",
   "metadata": {},
   "source": [
    "2. Using the KNN example from class, write a function that finds the optimal value for k.\n",
    "You should iterate over a range of values and return the k and the score when the\n",
    "accuracy score is maximized. Be sure to only use odd values.\n"
   ]
  },
  {
   "cell_type": "code",
   "execution_count": 28,
   "id": "f24eb715",
   "metadata": {},
   "outputs": [
    {
     "data": {
      "text/html": [
       "<div>\n",
       "<style scoped>\n",
       "    .dataframe tbody tr th:only-of-type {\n",
       "        vertical-align: middle;\n",
       "    }\n",
       "\n",
       "    .dataframe tbody tr th {\n",
       "        vertical-align: top;\n",
       "    }\n",
       "\n",
       "    .dataframe thead th {\n",
       "        text-align: right;\n",
       "    }\n",
       "</style>\n",
       "<table border=\"1\" class=\"dataframe\">\n",
       "  <thead>\n",
       "    <tr style=\"text-align: right;\">\n",
       "      <th></th>\n",
       "      <th>Pregnancies</th>\n",
       "      <th>Glucose</th>\n",
       "      <th>BloodPressure</th>\n",
       "      <th>SkinThickness</th>\n",
       "      <th>Insulin</th>\n",
       "      <th>BMI</th>\n",
       "      <th>DiabetesPedigreeFunction</th>\n",
       "      <th>Age</th>\n",
       "      <th>Outcome</th>\n",
       "    </tr>\n",
       "  </thead>\n",
       "  <tbody>\n",
       "    <tr>\n",
       "      <th>0</th>\n",
       "      <td>6</td>\n",
       "      <td>148</td>\n",
       "      <td>72</td>\n",
       "      <td>35</td>\n",
       "      <td>0</td>\n",
       "      <td>33.6</td>\n",
       "      <td>0.627</td>\n",
       "      <td>50</td>\n",
       "      <td>1</td>\n",
       "    </tr>\n",
       "    <tr>\n",
       "      <th>1</th>\n",
       "      <td>1</td>\n",
       "      <td>85</td>\n",
       "      <td>66</td>\n",
       "      <td>29</td>\n",
       "      <td>0</td>\n",
       "      <td>26.6</td>\n",
       "      <td>0.351</td>\n",
       "      <td>31</td>\n",
       "      <td>0</td>\n",
       "    </tr>\n",
       "    <tr>\n",
       "      <th>2</th>\n",
       "      <td>8</td>\n",
       "      <td>183</td>\n",
       "      <td>64</td>\n",
       "      <td>0</td>\n",
       "      <td>0</td>\n",
       "      <td>23.3</td>\n",
       "      <td>0.672</td>\n",
       "      <td>32</td>\n",
       "      <td>1</td>\n",
       "    </tr>\n",
       "    <tr>\n",
       "      <th>3</th>\n",
       "      <td>1</td>\n",
       "      <td>89</td>\n",
       "      <td>66</td>\n",
       "      <td>23</td>\n",
       "      <td>94</td>\n",
       "      <td>28.1</td>\n",
       "      <td>0.167</td>\n",
       "      <td>21</td>\n",
       "      <td>0</td>\n",
       "    </tr>\n",
       "    <tr>\n",
       "      <th>4</th>\n",
       "      <td>0</td>\n",
       "      <td>137</td>\n",
       "      <td>40</td>\n",
       "      <td>35</td>\n",
       "      <td>168</td>\n",
       "      <td>43.1</td>\n",
       "      <td>2.288</td>\n",
       "      <td>33</td>\n",
       "      <td>1</td>\n",
       "    </tr>\n",
       "  </tbody>\n",
       "</table>\n",
       "</div>"
      ],
      "text/plain": [
       "   Pregnancies  Glucose  BloodPressure  SkinThickness  Insulin   BMI  \\\n",
       "0            6      148             72             35        0  33.6   \n",
       "1            1       85             66             29        0  26.6   \n",
       "2            8      183             64              0        0  23.3   \n",
       "3            1       89             66             23       94  28.1   \n",
       "4            0      137             40             35      168  43.1   \n",
       "\n",
       "   DiabetesPedigreeFunction  Age  Outcome  \n",
       "0                     0.627   50        1  \n",
       "1                     0.351   31        0  \n",
       "2                     0.672   32        1  \n",
       "3                     0.167   21        0  \n",
       "4                     2.288   33        1  "
      ]
     },
     "execution_count": 28,
     "metadata": {},
     "output_type": "execute_result"
    }
   ],
   "source": [
    "# Dependencies and modules:\n",
    "\n",
    "import matplotlib.pyplot as plt\n",
    "import pandas as pd\n",
    "import numpy as np\n",
    "import requests\n",
    "import time\n",
    "from pprint import pprint\n",
    "import seaborn as sns\n",
    "sns.set_theme(style=\"whitegrid\")\n",
    "import statistics\n",
    "import math\n",
    "from scipy import stats\n",
    "from sklearn.model_selection import train_test_split\n",
    "from sklearn.linear_model import LinearRegression\n",
    "from sklearn.neighbors import KNeighborsClassifier\n",
    "from sklearn.preprocessing import StandardScaler\n",
    "\n",
    "\n",
    "\n",
    "diabetes_path = \"C:/Users/Nik/Documents/diabetes.csv\"\n",
    "diabetes_df = pd.read_csv(diabetes_path)\n",
    "diabetes_df.head(5)\n"
   ]
  },
  {
   "cell_type": "code",
   "execution_count": 33,
   "id": "1d186b92",
   "metadata": {},
   "outputs": [],
   "source": [
    "# Creating function to loop thru K-NN\n",
    "X = diabetes_df.drop('Outcome',axis=1)\n",
    "y = diabetes_df['Outcome']\n",
    "X_train, X_test, y_train, y_test = train_test_split(X, y, test_size=0.3, random_state=4)\n",
    "from sklearn.preprocessing import StandardScaler\n",
    "sc = StandardScaler()\n",
    "X_train = sc.fit_transform(X_train)\n",
    "X_test = sc.fit_transform(X_test)\n",
    "\n",
    "k_value_list = []\n",
    "knn_score_list = []\n",
    "\n",
    "def k_test():\n",
    "# create a range to check k values in. Rule of thumb is to check around the sqrt of the number of datapoints.\n",
    "# for this data set, that is 29. So we will check in range(50)\n",
    "    for k in range(50):\n",
    "        # Set k to odd value so there will be no ties among neighbors:\n",
    "        if k % 2 != 0:\n",
    "            knn=KNeighborsClassifier(n_neighbors=k)\n",
    "            knn.fit(X_train, y_train)\n",
    "            y_predict = knn.predict(X_test)\n",
    "            score = knn.score(X_test,y_test)\n",
    "            knn_score_list.append(score)\n",
    "            k_value_list.append(k)\n",
    "    else:\n",
    "        pass\n",
    "\n",
    "    k_vs_knn_df = pd.DataFrame(list(zip(k_value_list, knn_score_list)), columns =['k_value', 'Accuracy'])\n",
    "    k_vs_knn_sorted = k_vs_knn_df.sort_values(['Accuracy', 'k_value'], ascending=[False,True], ignore_index=True)   \n",
    "    \n",
    "    fig, ax = plt.subplots()\n",
    "    ax.scatter(k_vs_knn_sorted['k_value'], k_vs_knn_sorted['Accuracy'], c=k_vs_knn_sorted['Accuracy'],cmap=\"cool\", marker='o')\n",
    "    ax.set_ylabel(\"Accuracy as calculated by knn.score\")\n",
    "    ax.set_xlabel(\"Value of K\")\n",
    "    ax.set_title('Accuracy of Prediction for Different Values of K')\n",
    "    plt.annotate(\" <-Best k\", (15, 0.78))\n",
    "    plt.show()\n",
    "    \n",
    "    return k_vs_knn_sorted.loc[0]"
   ]
  },
  {
   "cell_type": "code",
   "execution_count": 34,
   "id": "62c8ae7c",
   "metadata": {},
   "outputs": [
    {
     "data": {
      "image/png": "[encoded data removed]",
      "text/plain": [
       "<Figure size 640x480 with 1 Axes>"
      ]
     },
     "metadata": {},
     "output_type": "display_data"
    },
    {
     "data": {
      "text/plain": [
       "k_value     15.000000\n",
       "Accuracy     0.779221\n",
       "Name: 0, dtype: float64"
      ]
     },
     "execution_count": 34,
     "metadata": {},
     "output_type": "execute_result"
    }
   ],
   "source": [
    "k_test()"
   ]
  },
  {
   "cell_type": "markdown",
   "id": "ec0438e6",
   "metadata": {},
   "source": [
    "3. How did the panel influence your thoughts about working in tech, specifically work in the\n",
    "data realm? Discuss with your group and summarize your thoughts in under 250 words"
   ]
  },
  {
   "cell_type": "markdown",
   "id": "8908cfaf",
   "metadata": {},
   "source": [
    "I found it particularly relieving to learn that these pioneers of tech field still wrestle with imposter syndrome. Their message that confidence in your team and confidence that your employer and your team know your strengths and weaknesses, your capabilities and your skill gaps -because you are always honest with them- is reassuring and seems like great advice.\n",
    "\n",
    "My interest was piqued by the kind of work that was mentioned. I like the idea of being a consultant like Angelique and finding new challenges with every project. I was in awe of Jeromey's story about informing the national spending with his Federal Reserve project and the sense of civic pride he felt. \n",
    "\n",
    "I was comforted to discover that Susan and Michelle's work and experiences sounded very appealing to me, too, and that tells me I have a broad landing zone for finding a place in a tech role to use my new skills! \n",
    "\n",
    "Of course, the most meaningful guest -to me- was Brittany. She has so recently walked in my shoes, she has pivoted as I hope to pivot, and she is still fresh enough to sympathize with the concerns that I have as a new data science student that I hung on her every word and was very encouraged by what she had to say and paid special attention to her advice.\n",
    "\n",
    "Thank you very much, Alexis, for organizing the panel."
   ]
  },
  {
   "cell_type": "markdown",
   "id": "fe4f3c61",
   "metadata": {},
   "source": [
    "Misc. Notes:"
   ]
  },
  {
   "cell_type": "markdown",
   "id": "58c7914e",
   "metadata": {},
   "source": [
    "* parsimony is instersection of accuracy and simplicity\n",
    "* be cheap with your compute\n",
    "* Rule of thumb: k is = to sqrt of n samples (for our dataset, this is around 28)\n",
    "* An odd number for k is to keep a tie from happening.\n",
    "* smaller k leads to underfitting, larger k leads to overfitting\n",
    "* what you want is the first most accurate k value. lowest most accurate.\n",
    "* nest a function that compares k values and prints \n"
   ]
  },
  {
   "cell_type": "code",
   "execution_count": null,
   "id": "bd6bed0f",
   "metadata": {},
   "outputs": [],
   "source": []
  }
 ],
 "metadata": {
  "kernelspec": {
   "display_name": "Python 3 (ipykernel)",
   "language": "python",
   "name": "python3"
  },
  "language_info": {
   "codemirror_mode": {
    "name": "ipython",
    "version": 3
   },
   "file_extension": ".py",
   "mimetype": "text/x-python",
   "name": "python",
   "nbconvert_exporter": "python",
   "pygments_lexer": "ipython3",
   "version": "3.9.7"
  }
 },
 "nbformat": 4,
 "nbformat_minor": 5
}
